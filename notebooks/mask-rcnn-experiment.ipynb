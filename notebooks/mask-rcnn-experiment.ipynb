{
  "cells": [
    {
      "cell_type": "code",
      "execution_count": 1,
      "metadata": {
        "gather": {
          "logged": 1649143434275
        }
      },
      "outputs": [
        {
          "name": "stdout",
          "output_type": "stream",
          "text": [
            "Azure ML SDK Version: 1.42.0\n"
          ]
        }
      ],
      "source": [
        "import os\n",
        "import azureml.core\n",
        "import shutil\n",
        "\n",
        "print(f\"Azure ML SDK Version: {azureml.core.VERSION}\")"
      ]
    },
    {
      "cell_type": "code",
      "execution_count": 6,
      "metadata": {},
      "outputs": [
        {
          "data": {
            "text/plain": [
              "'/mnt/batch/tasks/shared/LS_root/mounts/clusters/hoo-compute-cpu/code/Users/oli_hofmann/calorie_estimation2022/notebooks'"
            ]
          },
          "execution_count": 6,
          "metadata": {},
          "output_type": "execute_result"
        }
      ],
      "source": [
        "os.getcwd()"
      ]
    },
    {
      "cell_type": "markdown",
      "metadata": {},
      "source": [
        "### Initialize Workspace configuration"
      ]
    },
    {
      "cell_type": "code",
      "execution_count": 15,
      "metadata": {},
      "outputs": [],
      "source": [
        "DATASET_NAME = \"UNIMIB2016-label_20220827_100542\"\n",
        "COMPUTE_NAME = \"ML-Workspa-com1\"\n",
        "MODEL_NAME = \"food-segmentation-model\""
      ]
    },
    {
      "cell_type": "code",
      "execution_count": 3,
      "metadata": {},
      "outputs": [],
      "source": [
        "azure_ml_workspace = azureml.core.Workspace.from_config()"
      ]
    },
    {
      "cell_type": "markdown",
      "metadata": {},
      "source": [
        "### Create experiment"
      ]
    },
    {
      "cell_type": "code",
      "execution_count": 4,
      "metadata": {
        "gather": {
          "logged": 1649143442034
        }
      },
      "outputs": [],
      "source": [
        "mask_rcnn_experiment = azureml.core.Experiment(workspace=azure_ml_workspace, name=\"food-segmentation\")"
      ]
    },
    {
      "cell_type": "markdown",
      "metadata": {},
      "source": [
        "### Get compute target"
      ]
    },
    {
      "cell_type": "code",
      "execution_count": 13,
      "metadata": {
        "gather": {
          "logged": 1649143444978
        }
      },
      "outputs": [],
      "source": [
        "compute_target = azure_ml_workspace.compute_targets[COMPUTE_NAME]"
      ]
    },
    {
      "cell_type": "markdown",
      "metadata": {},
      "source": [
        "### Define Environment for the pipeline"
      ]
    },
    {
      "cell_type": "code",
      "execution_count": 7,
      "metadata": {},
      "outputs": [
        {
          "data": {
            "text/plain": [
              "{\n",
              "    \"databricks\": {\n",
              "        \"eggLibraries\": [],\n",
              "        \"jarLibraries\": [],\n",
              "        \"mavenLibraries\": [],\n",
              "        \"pypiLibraries\": [],\n",
              "        \"rcranLibraries\": []\n",
              "    },\n",
              "    \"docker\": {\n",
              "        \"arguments\": [],\n",
              "        \"baseDockerfile\": \"FROM tensorflow/tensorflow:2.5.0-gpu\\n\\n# Fix for the public key error\\n# https://github.com/NVIDIA/nvidia-docker/issues/1632\\nRUN apt-key adv --fetch-keys https://developer.download.nvidia.com/compute/cuda/repos/ubuntu1804/x86_64/3bf863cc.pub\\nRUN apt-key adv --fetch-keys https://developer.download.nvidia.com/compute/machine-learning/repos/ubuntu1804/x86_64/7fa2af80.pub\\n\\n\\n# Install Common Dependencies\\nRUN apt-get update && \\\\\\n    apt-get install -y --no-install-recommends \\\\\\n    wget\\n\\n# Conda Environment\\nENV MINICONDA_VERSION py38_4.11.0\\nENV PATH /opt/miniconda/bin:$PATH\\nRUN wget -qO /tmp/miniconda.sh https://repo.anaconda.com/miniconda/Miniconda3-${MINICONDA_VERSION}-Linux-x86_64.sh && \\\\\\n    bash /tmp/miniconda.sh -bf -p /opt/miniconda && \\\\\\n    conda clean -ay && \\\\\\n    rm -rf /opt/miniconda/pkgs && \\\\\\n    rm /tmp/miniconda.sh && \\\\\\n    find / -type d -name __pycache__ | xargs rm -rf\",\n",
              "        \"baseImage\": null,\n",
              "        \"baseImageRegistry\": {\n",
              "            \"address\": null,\n",
              "            \"password\": null,\n",
              "            \"registryIdentity\": null,\n",
              "            \"username\": null\n",
              "        },\n",
              "        \"enabled\": false,\n",
              "        \"platform\": {\n",
              "            \"architecture\": \"amd64\",\n",
              "            \"os\": \"Linux\"\n",
              "        },\n",
              "        \"sharedVolumes\": true,\n",
              "        \"shmSize\": null\n",
              "    },\n",
              "    \"environmentVariables\": {\n",
              "        \"EXAMPLE_ENV_VAR\": \"EXAMPLE_VALUE\"\n",
              "    },\n",
              "    \"inferencingStackVersion\": null,\n",
              "    \"name\": \"food-segmentation\",\n",
              "    \"python\": {\n",
              "        \"baseCondaEnvironment\": null,\n",
              "        \"condaDependencies\": {\n",
              "            \"channels\": [\n",
              "                \"anaconda\",\n",
              "                \"conda-forge\"\n",
              "            ],\n",
              "            \"dependencies\": [\n",
              "                \"python=3.8.12\",\n",
              "                {\n",
              "                    \"pip\": [\n",
              "                        \"azureml-defaults==1.42.0\",\n",
              "                        \"azureml-pipeline==1.42.0\",\n",
              "                        \"numpy>=1.10,<1.20\",\n",
              "                        \"pandas>=1.1,<1.2\",\n",
              "                        \"scipy>=1.5,<1.6\",\n",
              "                        \"Pillow\",\n",
              "                        \"cython\",\n",
              "                        \"matplotlib>=3.3,<3.4\",\n",
              "                        \"scikit-image\",\n",
              "                        \"tensorflow~=2.5.0\",\n",
              "                        \"opencv-python==4.5.5.64\",\n",
              "                        \"opencv-python-headless==4.5.5.64\",\n",
              "                        \"h5py\",\n",
              "                        \"imgaug\",\n",
              "                        \"IPython\",\n",
              "                        \"timm==0.4.5\",\n",
              "                        \"opencv-python\",\n",
              "                        \"seaborn==0.11.2\"\n",
              "                    ]\n",
              "                },\n",
              "                \"pip\"\n",
              "            ],\n",
              "            \"name\": \"project_environment\"\n",
              "        },\n",
              "        \"condaDependenciesFile\": null,\n",
              "        \"interpreterPath\": \"python\",\n",
              "        \"userManagedDependencies\": false\n",
              "    },\n",
              "    \"r\": null,\n",
              "    \"spark\": {\n",
              "        \"packages\": [],\n",
              "        \"precachePackages\": true,\n",
              "        \"repositories\": []\n",
              "    },\n",
              "    \"version\": \"1\"\n",
              "}"
            ]
          },
          "execution_count": 7,
          "metadata": {},
          "output_type": "execute_result"
        }
      ],
      "source": [
        "pipeline_env = azureml.core.Environment.from_dockerfile(\"food-segmentation\", \n",
        "                                                        dockerfile=\"../pipeline/Dockerfile\",\n",
        "                                                        pip_requirements=\"../pipeline/requirements.txt\")\n",
        "\n",
        "pipeline_env.register(workspace=azure_ml_workspace) "
      ]
    },
    {
      "cell_type": "markdown",
      "metadata": {},
      "source": [
        "### Define dataset"
      ]
    },
    {
      "cell_type": "code",
      "execution_count": 11,
      "metadata": {
        "gather": {
          "logged": 1649143468709
        }
      },
      "outputs": [
        {
          "name": "stderr",
          "output_type": "stream",
          "text": [
            "Method mount: This is an experimental method, and may change at any time. Please see https://aka.ms/azuremlexperimental for more information.\n"
          ]
        },
        {
          "name": "stdout",
          "output_type": "stream",
          "text": [
            "Not mounting as a volume: No datastore info was found, volume mount would not be attempted.. \n",
            "Falling back to dataflow mount.\n"
          ]
        },
        {
          "data": {
            "text/plain": [
              "'/tmp/tmpc0smxrnt'"
            ]
          },
          "execution_count": 11,
          "metadata": {},
          "output_type": "execute_result"
        }
      ],
      "source": [
        "dataset = azureml.core.Dataset.get_by_name(workspace=azure_ml_workspace, name=DATASET_NAME)\n",
        "mount_context = dataset.mount(stream_column=\"image_url\")\n",
        "\n",
        "mount_context.start()\n",
        "mount_context.mount_point"
      ]
    },
    {
      "cell_type": "code",
      "execution_count": 9,
      "metadata": {
        "gather": {
          "logged": 1649064109040
        }
      },
      "outputs": [],
      "source": [
        "df = dataset.to_pandas_dataframe()\n",
        "df[\"image_url\"] = df[\"image_url\"].astype(str)"
      ]
    },
    {
      "cell_type": "markdown",
      "metadata": {},
      "source": [
        "### Configure the training job"
      ]
    },
    {
      "cell_type": "code",
      "execution_count": 18,
      "metadata": {
        "gather": {
          "logged": 1649147215928
        }
      },
      "outputs": [],
      "source": [
        "arguments = [\n",
        "    \"--dataset_name\", DATASET_NAME,\n",
        "    \"--download_folder\", \"download\",\n",
        "    \"--epochs\", 5\n",
        "    ]\n",
        "\n",
        "script_run_config = azureml.core.ScriptRunConfig(\n",
        "    source_directory=\"./..\",\n",
        "    script=\"train.py\",\n",
        "    compute_target=compute_target,\n",
        "    environment=pipeline_env,\n",
        "    arguments=arguments\n",
        ")"
      ]
    },
    {
      "cell_type": "markdown",
      "metadata": {},
      "source": [
        "### Submit the job to the cluster"
      ]
    },
    {
      "cell_type": "code",
      "execution_count": 19,
      "metadata": {
        "gather": {
          "logged": 1649147225503
        }
      },
      "outputs": [
        {
          "data": {
            "text/html": [
              "<table style=\"width:100%\"><tr><th>Experiment</th><th>Id</th><th>Type</th><th>Status</th><th>Details Page</th><th>Docs Page</th></tr><tr><td>food-segmentation</td><td>food-segmentation_1661597154_752b264c</td><td>azureml.scriptrun</td><td>Preparing</td><td><a href=\"https://ml.azure.com/runs/food-segmentation_1661597154_752b264c?wsid=/subscriptions/6583b89e-b354-4b5b-9906-047be634ef6b/resourcegroups/ml/workspaces/ml-workspace&amp;tid=5b10e8c9-5c5d-43d6-bcff-a59d6b6b01e9\" target=\"_blank\" rel=\"noopener\">Link to Azure Machine Learning studio</a></td><td><a href=\"https://docs.microsoft.com/en-us/python/api/azureml-core/azureml.core.script_run.ScriptRun?view=azure-ml-py\" target=\"_blank\" rel=\"noopener\">Link to Documentation</a></td></tr></table>"
            ],
            "text/plain": [
              "Run(Experiment: food-segmentation,\n",
              "Id: food-segmentation_1661597154_752b264c,\n",
              "Type: azureml.scriptrun,\n",
              "Status: Preparing)"
            ]
          },
          "execution_count": 19,
          "metadata": {},
          "output_type": "execute_result"
        }
      ],
      "source": [
        "run = mask_rcnn_experiment.submit(config=script_run_config)\n",
        "run"
      ]
    }
  ],
  "metadata": {
    "kernel_info": {
      "name": "ovencam-volume-estimation"
    },
    "kernelspec": {
      "display_name": "Python 3.8.13 ('calorie-estimation')",
      "language": "python",
      "name": "python3"
    },
    "language_info": {
      "codemirror_mode": {
        "name": "ipython",
        "version": 3
      },
      "file_extension": ".py",
      "mimetype": "text/x-python",
      "name": "python",
      "nbconvert_exporter": "python",
      "pygments_lexer": "ipython3",
      "version": "3.8.13"
    },
    "microsoft": {
      "host": {
        "AzureML": {
          "notebookHasBeenCompleted": true
        }
      }
    },
    "nteract": {
      "version": "nteract-front-end@1.0.0"
    },
    "orig_nbformat": 4,
    "vscode": {
      "interpreter": {
        "hash": "bebe33104f02cc1e84e7a6d138a5dffd075e4f579c418e28080f58e1f1fdc086"
      }
    }
  },
  "nbformat": 4,
  "nbformat_minor": 2
}
